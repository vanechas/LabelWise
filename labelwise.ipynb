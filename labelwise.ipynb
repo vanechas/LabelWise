{
 "cells": [
  {
   "cell_type": "code",
   "execution_count": 8,
   "id": "a4403e95",
   "metadata": {},
   "outputs": [
    {
     "name": "stdout",
     "output_type": "stream",
     "text": [
      "Requirement already satisfied: opencv-python in c:\\users\\vanessa\\anaconda3\\lib\\site-packages (4.11.0.86)\n",
      "Requirement already satisfied: pytesseract in c:\\users\\vanessa\\anaconda3\\lib\\site-packages (0.3.13)\n",
      "Requirement already satisfied: pandas in c:\\users\\vanessa\\anaconda3\\lib\\site-packages (2.2.3)\n",
      "Requirement already satisfied: pillow in c:\\users\\vanessa\\anaconda3\\lib\\site-packages (11.0.0)\n",
      "Requirement already satisfied: numpy>=1.21.2 in c:\\users\\vanessa\\anaconda3\\lib\\site-packages (from opencv-python) (1.26.4)\n",
      "Requirement already satisfied: packaging>=21.3 in c:\\users\\vanessa\\anaconda3\\lib\\site-packages (from pytesseract) (24.2)\n",
      "Requirement already satisfied: python-dateutil>=2.8.2 in c:\\users\\vanessa\\anaconda3\\lib\\site-packages (from pandas) (2.9.0.post0)\n",
      "Requirement already satisfied: pytz>=2020.1 in c:\\users\\vanessa\\anaconda3\\lib\\site-packages (from pandas) (2024.1)\n",
      "Requirement already satisfied: tzdata>=2022.7 in c:\\users\\vanessa\\anaconda3\\lib\\site-packages (from pandas) (2023.3)\n",
      "Requirement already satisfied: six>=1.5 in c:\\users\\vanessa\\anaconda3\\lib\\site-packages (from python-dateutil>=2.8.2->pandas) (1.16.0)\n",
      "Note: you may need to restart the kernel to use updated packages.\n"
     ]
    }
   ],
   "source": [
    "pip install opencv-python pytesseract pandas pillow"
   ]
  },
  {
   "cell_type": "code",
   "execution_count": 9,
   "id": "51ec424f",
   "metadata": {},
   "outputs": [],
   "source": [
    "import pytesseract\n",
    "pytesseract.pytesseract.tesseract_cmd = r\"C:\\Program Files\\Tesseract-OCR\\tesseract.exe\""
   ]
  },
  {
   "cell_type": "code",
   "execution_count": 10,
   "id": "8feb9ca7",
   "metadata": {},
   "outputs": [
    {
     "name": "stdout",
     "output_type": "stream",
     "text": [
      "📷 Press SPACE to take a photo, ESC to exit.\n",
      "✅ Image saved to label_457953a2924047879b5b7b73d4e97a2e.jpg\n",
      "⚠️ No known ingredients detected.\n"
     ]
    }
   ],
   "source": [
    "import cv2\n",
    "import pytesseract\n",
    "from PIL import Image\n",
    "import pandas as pd\n",
    "import re\n",
    "import os\n",
    "import uuid\n",
    "\n",
    "# Load your ingredients database\n",
    "def load_ingredient_db(csv_path=\"ingredients_database.csv\"):\n",
    "    df = pd.read_csv(csv_path)\n",
    "    db = {\n",
    "        row[\"ingredient\"].lower(): {\n",
    "            \"label\": row[\"label\"],\n",
    "            \"explanation\": row[\"explanation\"]\n",
    "        } for _, row in df.iterrows()\n",
    "    }\n",
    "    return db\n",
    "\n",
    "# OCR text extraction\n",
    "def extract_text_from_image(image_path):\n",
    "    image = Image.open(image_path)\n",
    "    return pytesseract.image_to_string(image)\n",
    "\n",
    "# Ingredient name extraction\n",
    "def extract_ingredients(text):\n",
    "    words = re.split(r'[,\\n]', text.lower())\n",
    "    cleaned = [re.sub(r'[^a-zA-Z ]+', '', w).strip() for w in words]\n",
    "    return list(set([w for w in cleaned if len(w) > 2]))\n",
    "\n",
    "# Ingredient analysis\n",
    "def analyze_ingredients(ingredients, db):\n",
    "    results = []\n",
    "    for ing in ingredients:\n",
    "        if ing in db:\n",
    "            info = db[ing]\n",
    "            results.append({\n",
    "                \"ingredient\": ing,\n",
    "                \"label\": info[\"label\"],\n",
    "                \"explanation\": info[\"explanation\"]\n",
    "            })\n",
    "    return results\n",
    "\n",
    "# Webcam capture function\n",
    "def capture_image_from_webcam(output_path=\"captured_label.jpg\"):\n",
    "    cap = cv2.VideoCapture(0)\n",
    "    print(\"📷 Press SPACE to take a photo, ESC to exit.\")\n",
    "\n",
    "    while True:\n",
    "        ret, frame = cap.read()\n",
    "        cv2.imshow(\"LabelWise Scanner - Press SPACE to Capture\", frame)\n",
    "\n",
    "        key = cv2.waitKey(1)\n",
    "        if key % 256 == 27:  # ESC\n",
    "            print(\"❌ Capture canceled.\")\n",
    "            break\n",
    "        elif key % 256 == 32:  # SPACE\n",
    "            cv2.imwrite(output_path, frame)\n",
    "            print(f\"✅ Image saved to {output_path}\")\n",
    "            break\n",
    "\n",
    "    cap.release()\n",
    "    cv2.destroyAllWindows()\n",
    "\n",
    "# Main scanner pipeline\n",
    "def scan_label_from_camera(csv_path=\"ingredients_database.csv\"):\n",
    "    image_path = f\"label_{uuid.uuid4().hex}.jpg\"\n",
    "    capture_image_from_webcam(image_path)\n",
    "\n",
    "    db = load_ingredient_db(csv_path)\n",
    "    text = extract_text_from_image(image_path)\n",
    "    ingredients = extract_ingredients(text)\n",
    "    results = analyze_ingredients(ingredients, db)\n",
    "\n",
    "    if not results:\n",
    "        print(\"⚠️ No known ingredients detected.\")\n",
    "    else:\n",
    "        print(\"\\n📊 Analysis Result:\")\n",
    "        for r in results:\n",
    "            print(f\"- {r['ingredient'].title()} ({r['label']})\")\n",
    "            print(f\"  → {r['explanation']}\\n\")\n",
    "\n",
    "if __name__ == \"__main__\":\n",
    "    scan_label_from_camera()\n",
    " "
   ]
  }
 ],
 "metadata": {
  "kernelspec": {
   "display_name": "base",
   "language": "python",
   "name": "python3"
  },
  "language_info": {
   "codemirror_mode": {
    "name": "ipython",
    "version": 3
   },
   "file_extension": ".py",
   "mimetype": "text/x-python",
   "name": "python",
   "nbconvert_exporter": "python",
   "pygments_lexer": "ipython3",
   "version": "3.11.11"
  }
 },
 "nbformat": 4,
 "nbformat_minor": 5
}
